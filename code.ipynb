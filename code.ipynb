{
 "cells": [
  {
   "cell_type": "code",
   "execution_count": null,
   "id": "11e1f5d4",
   "metadata": {},
   "outputs": [],
   "source": [
    "import pandas as pd\n",
    "import seaborn as sns\n",
    "import matplotlib.pyplot as plt\n",
    "import numpy as np\n",
    "\n",
    "from sklearn.model_selection import train_test_split\n",
    "from sklearn.preprocessing import StandardScaler, MinMaxScaler, OneHotEncoder, LabelEncoder"
   ]
  },
  {
   "cell_type": "markdown",
   "id": "6db3ea2b",
   "metadata": {},
   "source": [
    "## Assessing the Dataset"
   ]
  },
  {
   "cell_type": "code",
   "execution_count": null,
   "id": "d0b61dac",
   "metadata": {},
   "outputs": [],
   "source": [
    "df = pd.read_csv(\"obesity_data.csv\")\n",
    "\n",
    "df.head()"
   ]
  },
  {
   "cell_type": "code",
   "execution_count": null,
   "id": "03df9e64",
   "metadata": {},
   "outputs": [],
   "source": [
    "df.describe().T"
   ]
  },
  {
   "cell_type": "code",
   "execution_count": null,
   "id": "5cf5ed0c",
   "metadata": {},
   "outputs": [],
   "source": [
    "df.isna().sum()"
   ]
  },
  {
   "cell_type": "code",
   "execution_count": null,
   "id": "2efe0444",
   "metadata": {},
   "outputs": [],
   "source": [
    "df.info()"
   ]
  },
  {
   "cell_type": "markdown",
   "id": "7e3ae065",
   "metadata": {},
   "source": [
    "## Visualizing the data in histogram"
   ]
  },
  {
   "cell_type": "code",
   "execution_count": null,
   "id": "c458892e",
   "metadata": {},
   "outputs": [],
   "source": [
    "numerical_features = df.select_dtypes(include=[np.number]).columns.tolist()\n",
    "categorical_features = df.select_dtypes(exclude=[np.number]).columns.tolist()\n",
    "fig, ax = plt.subplots(2, len(numerical_features)//2, figsize=(20, 8))\n",
    "for i, feature in enumerate(numerical_features):\n",
    "  sns.histplot(df[feature], ax=ax[i//(len(numerical_features)//2), i%(len(numerical_features)//2)], kde=True)\n",
    "  ax[i//(len(numerical_features)//2), i%(len(numerical_features)//2)].set_title(feature)\n",
    "plt.tight_layout()\n",
    "plt.show()"
   ]
  },
  {
   "cell_type": "code",
   "execution_count": null,
   "id": "b06af3ce",
   "metadata": {},
   "outputs": [],
   "source": [
    "numerical_features = df.select_dtypes(include=[np.number]).columns.tolist()\n",
    "categorical_features = df.select_dtypes(exclude=[np.number]).columns.tolist()\n",
    "fig, ax = plt.subplots(2, len(numerical_features)//2, figsize=(20, 8))\n",
    "for i, feature in enumerate(numerical_features):\n",
    "  row = i // (len(categorical_features)//2)\n",
    "  col = i % (len(categorical_features)//2)\n",
    "  sns.boxplot(df[feature], ax=ax[row, col], orient='h')\n",
    "  ax[row, col].set_title(feature)\n",
    "plt.tight_layout()\n",
    "plt.show()"
   ]
  },
  {
   "cell_type": "markdown",
   "id": "597aaf1d",
   "metadata": {},
   "source": [
    "### NCP: How many main meals do you have daily?"
   ]
  },
  {
   "cell_type": "code",
   "execution_count": null,
   "id": "905ee2a0",
   "metadata": {},
   "outputs": [],
   "source": [
    "# Dibuat menjadi bilangan bulat\n",
    "df['NCP'] = df['NCP'].round(0)"
   ]
  },
  {
   "cell_type": "code",
   "execution_count": null,
   "id": "d1714ad8",
   "metadata": {},
   "outputs": [],
   "source": [
    "fig, ax = plt.subplots(3, len(categorical_features)//3, figsize=(20, 20))\n",
    "\n",
    "for i, feature in enumerate(categorical_features):\n",
    "    row = i // (len(categorical_features)//3)\n",
    "    col = i % (len(categorical_features)//3)\n",
    "    sns.countplot(data=df, x=feature, hue=feature, ax=ax[row, col])\n",
    "    ax[row, col].set_title(f\"Countplot for {feature.replace('_', ' ').title()}\")\n",
    "    ax[row, col].tick_params(axis='x', rotation=90)\n",
    "    ax[row, col].set_xlabel(feature.replace('_', ' ').title())\n",
    "\n",
    "plt.tight_layout()\n",
    "plt.show()\n"
   ]
  },
  {
   "cell_type": "code",
   "execution_count": null,
   "id": "6ceb3e04",
   "metadata": {},
   "outputs": [],
   "source": [
    "encoder = LabelEncoder()\n",
    "df[categorical_features] = df[categorical_features].apply(encoder.fit_transform)\n",
    "df.head()"
   ]
  },
  {
   "cell_type": "code",
   "execution_count": null,
   "id": "eee89db9",
   "metadata": {},
   "outputs": [],
   "source": [
    "# Check data types after encoding\n",
    "df.info()"
   ]
  },
  {
   "cell_type": "code",
   "execution_count": null,
   "id": "4ef097ca",
   "metadata": {},
   "outputs": [],
   "source": [
    "corr = df.corr()\n",
    "plt.figure(figsize=(14, 14))\n",
    "sns.heatmap(corr, annot=True, fmt=\".2f\", cmap='coolwarm', square=True, cbar_kws={\"shrink\": .8})\n",
    "plt.title(\"Correlation Heatmap\")\n",
    "plt.show()"
   ]
  },
  {
   "cell_type": "code",
   "execution_count": null,
   "id": "91b69912",
   "metadata": {},
   "outputs": [],
   "source": [
    "target_corr = corr['NObeyesdad'].sort_values(ascending=False)\n",
    "\n",
    "labels = target_corr.index\n",
    "\n",
    "plt.figure(figsize=(10, 6))\n",
    "sns.barplot(x=target_corr.values, y=labels, palette='viridis', hue=target_corr.values)\n",
    "plt.axvline(x=0, color='red', linestyle='--')\n",
    "for i, v in enumerate(target_corr.values):\n",
    "    plt.text(v + 0.01, i, f\"{v:.3f}\", color='red', va='center', fontsize=10)\n",
    "plt.legend(title=\"Corr Coefficient\", bbox_to_anchor=(1.05, 1), loc='upper left')\n",
    "plt.title(\"Correlation with Target Variable\")\n",
    "plt.xlabel(\"Correlation Coefficient\")\n",
    "plt.ylabel(\"Features\")\n",
    "plt.show()"
   ]
  },
  {
   "cell_type": "code",
   "execution_count": null,
   "id": "f471dfb6",
   "metadata": {},
   "outputs": [],
   "source": [
    "# do some feature selection using SelectKBest and mutual_info_classif as it works well with both categorical and continuous features\n",
    "from sklearn.feature_selection import SelectKBest, mutual_info_classif\n",
    "\n",
    "X = df.drop(columns=['NObeyesdad'])\n",
    "y = df['NObeyesdad']\n",
    "\n",
    "X_train, X_test, y_train, y_test = train_test_split(X, y, test_size=0.2, random_state=42)\n",
    "\n",
    "# Feature selection using SelectKBest (select top 10 features)\n",
    "selector = SelectKBest(score_func=mutual_info_classif, k=10)\n",
    "selector.fit(X_train, y_train)\n",
    "selected_features = X.columns[selector.get_support()]\n",
    "print(\"Selected Features:\", selected_features)\n",
    "print(\"Dropped Features:\", X.columns[~selector.get_support()])"
   ]
  },
  {
   "cell_type": "code",
   "execution_count": null,
   "id": "b97b081e",
   "metadata": {},
   "outputs": [],
   "source": [
    "scores = pd.Series(selector.scores_, index=X.columns).sort_values(ascending=False)\n",
    "plt.figure(figsize=(10, 6))\n",
    "sns.barplot(x=scores.values, y=scores.index, palette=\"viridis\", hue=scores.values)\n",
    "for i, v in enumerate(scores.values):\n",
    "    plt.text(v + 0.01, i, f\"{v:.3f}\", color='red', va='center', fontsize=10)\n",
    "plt.title(\"Feature Importance Scores (mutual_info_classif)\")\n",
    "plt.xlabel(\"Score\")\n",
    "plt.ylabel(\"Feature\")\n",
    "plt.tight_layout()\n",
    "plt.show()"
   ]
  },
  {
   "cell_type": "code",
   "execution_count": null,
   "id": "9e7f48f1",
   "metadata": {},
   "outputs": [],
   "source": [
    "# Scale the data using standard scaler\n",
    "scaler = StandardScaler()\n",
    "X_train_scaled = scaler.fit_transform(X_train[selected_features])\n",
    "X_test_scaled = scaler.transform(X_test[selected_features])\n",
    "X_train_scaled = pd.DataFrame(X_train_scaled, columns=selected_features)\n",
    "X_test_scaled = pd.DataFrame(X_test_scaled, columns=selected_features)\n",
    "\n"
   ]
  },
  {
   "cell_type": "code",
   "execution_count": null,
   "id": "b906b5c6",
   "metadata": {},
   "outputs": [],
   "source": [
    "from sklearn.ensemble import RandomForestClassifier\n",
    "from sklearn.metrics import classification_report, confusion_matrix, accuracy_score\n",
    "from sklearn.model_selection import GridSearchCV\n",
    "\n",
    "\n",
    "rf = RandomForestClassifier(random_state=42)\n",
    "param_grid = {\n",
    "    'n_estimators': [100, 200, 300],\n",
    "    'max_depth': [None, 10, 20, 30],\n",
    "    'min_samples_split': [2, 5, 10],\n",
    "    'min_samples_leaf': [1, 2, 4],\n",
    "    'max_features': ['sqrt', 'log2', None],\n",
    "    'bootstrap': [True, False],\n",
    "    'class_weight': [None, 'balanced']\n",
    "}\n",
    "\n",
    "grid_search = GridSearchCV(estimator=rf, param_grid=param_grid, cv=3, n_jobs=-1, verbose=2)\n",
    "grid_search.fit(X_train_scaled, y_train)\n",
    "best_rf = grid_search.best_estimator_\n",
    "print(\"Best Parameters:\", grid_search.best_params_)\n",
    "print(\"Best Score:\", grid_search.best_score_)\n",
    "y_pred = best_rf.predict(X_test_scaled)\n",
    "\n",
    "print(\"Accuracy:\", accuracy_score(y_test, y_pred))\n",
    "print(\"Classification Report:\\n\", classification_report(y_test, y_pred))\n",
    "cm = confusion_matrix(y_test, y_pred)\n",
    "plt.figure(figsize=(8, 6))\n",
    "sns.heatmap(cm, annot=True, fmt='d', cmap='Blues', cbar=False, xticklabels=encoder.classes_, yticklabels=encoder.classes_)\n",
    "plt.title(\"Confusion Matrix\")\n",
    "plt.xlabel(\"Predicted\")\n",
    "plt.ylabel(\"True\")\n",
    "plt.show()"
   ]
  }
 ],
 "metadata": {
  "kernelspec": {
   "display_name": "Python 3",
   "language": "python",
   "name": "python3"
  },
  "language_info": {
   "codemirror_mode": {
    "name": "ipython",
    "version": 3
   },
   "file_extension": ".py",
   "mimetype": "text/x-python",
   "name": "python",
   "nbconvert_exporter": "python",
   "pygments_lexer": "ipython3",
   "version": "3.12.6"
  }
 },
 "nbformat": 4,
 "nbformat_minor": 5
}
