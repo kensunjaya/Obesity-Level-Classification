{
  "cells": [
    {
      "cell_type": "code",
      "execution_count": null,
      "id": "11e1f5d4",
      "metadata": {
        "id": "11e1f5d4"
      },
      "outputs": [],
      "source": [
        "import pandas as pd\n",
        "import seaborn as sns\n",
        "import matplotlib.pyplot as plt\n",
        "import numpy as np\n",
        "\n",
        "from sklearn.model_selection import train_test_split\n",
        "from sklearn.preprocessing import StandardScaler, MinMaxScaler, OneHotEncoder, LabelEncoder"
      ]
    },
    {
      "cell_type": "markdown",
      "id": "6db3ea2b",
      "metadata": {
        "id": "6db3ea2b"
      },
      "source": [
        "## Assessing the Dataset"
      ]
    },
    {
      "cell_type": "code",
      "execution_count": null,
      "id": "d0b61dac",
      "metadata": {
        "colab": {
          "base_uri": "https://localhost:8080/",
          "height": 206
        },
        "id": "d0b61dac",
        "outputId": "911db2bc-c14f-4d1a-89aa-fdcfaa7e09fa"
      },
      "outputs": [],
      "source": [
        "df = pd.read_csv(\"obesity_data.csv\")\n",
        "\n",
        "df.head()"
      ]
    },
    {
      "cell_type": "code",
      "execution_count": null,
      "id": "03df9e64",
      "metadata": {
        "colab": {
          "base_uri": "https://localhost:8080/",
          "height": 300
        },
        "id": "03df9e64",
        "outputId": "4d754b17-17b3-46fc-a9cb-edc631424682"
      },
      "outputs": [],
      "source": [
        "df.describe().T"
      ]
    },
    {
      "cell_type": "code",
      "execution_count": null,
      "id": "5cf5ed0c",
      "metadata": {
        "colab": {
          "base_uri": "https://localhost:8080/",
          "height": 617
        },
        "id": "5cf5ed0c",
        "outputId": "d303463e-fa40-45bf-e03c-8728409ca58b"
      },
      "outputs": [],
      "source": [
        "df.isna().sum()"
      ]
    },
    {
      "cell_type": "code",
      "execution_count": null,
      "id": "2efe0444",
      "metadata": {
        "colab": {
          "base_uri": "https://localhost:8080/"
        },
        "id": "2efe0444",
        "outputId": "2c858d54-3fbf-493b-eac2-578fc22ac8a9"
      },
      "outputs": [],
      "source": [
        "df.info()"
      ]
    },
    {
      "cell_type": "markdown",
      "id": "7e3ae065",
      "metadata": {
        "id": "7e3ae065"
      },
      "source": [
        "## Visualizing the data in histogram"
      ]
    },
    {
      "cell_type": "code",
      "execution_count": null,
      "id": "c458892e",
      "metadata": {
        "colab": {
          "base_uri": "https://localhost:8080/",
          "height": 616
        },
        "id": "c458892e",
        "outputId": "b065a7ed-83cf-47b5-c4f4-4ced4880ca4a"
      },
      "outputs": [],
      "source": [
        "numerical_features = df.select_dtypes(include=[np.number]).columns.tolist()\n",
        "categorical_features = df.select_dtypes(exclude=[np.number]).columns.tolist()\n",
        "fig, ax = plt.subplots(2, len(numerical_features)//2, figsize=(20, 8))\n",
        "for i, feature in enumerate(numerical_features):\n",
        "  sns.histplot(df[feature], ax=ax[i//(len(numerical_features)//2), i%(len(numerical_features)//2)], kde=True)\n",
        "  ax[i//(len(numerical_features)//2), i%(len(numerical_features)//2)].set_title(feature)\n",
        "plt.tight_layout()\n",
        "plt.show()"
      ]
    },
    {
      "cell_type": "code",
      "execution_count": null,
      "id": "b06af3ce",
      "metadata": {
        "colab": {
          "base_uri": "https://localhost:8080/",
          "height": 616
        },
        "id": "b06af3ce",
        "outputId": "12f03a19-c208-4467-aac5-132f4d136fa1"
      },
      "outputs": [],
      "source": [
        "numerical_features = df.select_dtypes(include=[np.number]).columns.tolist()\n",
        "categorical_features = df.select_dtypes(exclude=[np.number]).columns.tolist()\n",
        "fig, ax = plt.subplots(2, len(numerical_features)//2, figsize=(20, 8))\n",
        "for i, feature in enumerate(numerical_features):\n",
        "  row = i // (len(categorical_features)//2)\n",
        "  col = i % (len(categorical_features)//2)\n",
        "  sns.boxplot(df[feature], ax=ax[row, col], orient='h')\n",
        "  ax[row, col].set_title(feature)\n",
        "plt.tight_layout()\n",
        "plt.show()"
      ]
    },
    {
      "cell_type": "markdown",
      "id": "597aaf1d",
      "metadata": {
        "id": "597aaf1d"
      },
      "source": [
        "### NCP: How many main meals do you have daily?"
      ]
    },
    {
      "cell_type": "code",
      "execution_count": null,
      "id": "905ee2a0",
      "metadata": {
        "id": "905ee2a0"
      },
      "outputs": [],
      "source": [
        "# Dibuat menjadi bilangan bulat\n",
        "df['NCP'] = df['NCP'].round(0)"
      ]
    },
    {
      "cell_type": "code",
      "execution_count": null,
      "id": "d1714ad8",
      "metadata": {
        "colab": {
          "base_uri": "https://localhost:8080/",
          "height": 1000
        },
        "id": "d1714ad8",
        "outputId": "063e26d2-660d-4bf7-95f6-3aa27fea9ea3"
      },
      "outputs": [],
      "source": [
        "fig, ax = plt.subplots(3, len(categorical_features)//3, figsize=(20, 20))\n",
        "\n",
        "for i, feature in enumerate(categorical_features):\n",
        "    row = i // (len(categorical_features)//3)\n",
        "    col = i % (len(categorical_features)//3)\n",
        "    sns.countplot(data=df, x=feature, hue=feature, ax=ax[row, col])\n",
        "    ax[row, col].set_title(f\"Countplot for {feature.replace('_', ' ').title()}\")\n",
        "    ax[row, col].tick_params(axis='x', rotation=90)\n",
        "    ax[row, col].set_xlabel(feature.replace('_', ' ').title())\n",
        "\n",
        "plt.tight_layout()\n",
        "plt.show()\n"
      ]
    },
    {
      "cell_type": "code",
      "execution_count": null,
      "id": "6ceb3e04",
      "metadata": {
        "colab": {
          "base_uri": "https://localhost:8080/",
          "height": 206
        },
        "id": "6ceb3e04",
        "outputId": "13e90252-93d0-45d3-ef3e-9773fb479f7f"
      },
      "outputs": [],
      "source": [
        "encoder = LabelEncoder()\n",
        "df[categorical_features] = df[categorical_features].apply(encoder.fit_transform)\n",
        "df.head()"
      ]
    },
    {
      "cell_type": "code",
      "execution_count": null,
      "id": "eee89db9",
      "metadata": {
        "colab": {
          "base_uri": "https://localhost:8080/"
        },
        "id": "eee89db9",
        "outputId": "e5af45fb-0a74-4046-fd7d-d27fe349fa8f"
      },
      "outputs": [],
      "source": [
        "# Check data types after encoding\n",
        "df.info()"
      ]
    },
    {
      "cell_type": "code",
      "execution_count": null,
      "id": "4ef097ca",
      "metadata": {
        "colab": {
          "base_uri": "https://localhost:8080/",
          "height": 929
        },
        "id": "4ef097ca",
        "outputId": "51b6abad-0e7d-4c7f-d7ea-db683f451b3a"
      },
      "outputs": [],
      "source": [
        "corr = df.corr()\n",
        "plt.figure(figsize=(14, 14))\n",
        "sns.heatmap(corr, annot=True, fmt=\".2f\", cmap='coolwarm', square=True, cbar_kws={\"shrink\": .8})\n",
        "plt.title(\"Correlation Heatmap\")\n",
        "plt.show()"
      ]
    },
    {
      "cell_type": "code",
      "execution_count": null,
      "id": "91b69912",
      "metadata": {
        "colab": {
          "base_uri": "https://localhost:8080/",
          "height": 564
        },
        "id": "91b69912",
        "outputId": "09d1ca0a-d8cf-4ffd-eb62-ee50a66d9e8e"
      },
      "outputs": [],
      "source": [
        "target_corr = corr['NObeyesdad'].sort_values(ascending=False)\n",
        "\n",
        "labels = target_corr.index\n",
        "\n",
        "plt.figure(figsize=(10, 6))\n",
        "sns.barplot(x=target_corr.values, y=labels, palette='viridis', hue=target_corr.values)\n",
        "plt.axvline(x=0, color='red', linestyle='--')\n",
        "for i, v in enumerate(target_corr.values):\n",
        "    plt.text(v + 0.01, i, f\"{v:.3f}\", color='red', va='center', fontsize=10)\n",
        "plt.legend(title=\"Corr Coefficient\", bbox_to_anchor=(1.05, 1), loc='upper left')\n",
        "plt.title(\"Correlation with Target Variable\")\n",
        "plt.xlabel(\"Correlation Coefficient\")\n",
        "plt.ylabel(\"Features\")\n",
        "plt.show()"
      ]
    },
    {
      "cell_type": "code",
      "execution_count": null,
      "id": "f471dfb6",
      "metadata": {
        "colab": {
          "base_uri": "https://localhost:8080/"
        },
        "id": "f471dfb6",
        "outputId": "181ace2e-32dd-44a5-d9f6-a64f27907dfc"
      },
      "outputs": [],
      "source": [
        "from sklearn.feature_selection import SelectKBest, mutual_info_classif\n",
        "\n",
        "X = df.drop(columns=['NObeyesdad'])\n",
        "y = df['NObeyesdad']\n",
        "\n",
        "X_train, X_test, y_train, y_test = train_test_split(X, y, test_size=0.2, random_state=42)\n",
        "\n",
        "# (select 10 top features)\n",
        "selector = SelectKBest(score_func=lambda X, y: mutual_info_classif(X, y, random_state=42), k=10)\n",
        "selector.fit(X_train, y_train)\n",
        "\n",
        "selected_features = X.columns[selector.get_support()]\n",
        "print(\"Selected Features:\", selected_features.tolist())\n",
        "print(\"Dropped Features:\", X.columns[~selector.get_support()].tolist())\n"
      ]
    },
    {
      "cell_type": "code",
      "execution_count": null,
      "id": "b97b081e",
      "metadata": {
        "colab": {
          "base_uri": "https://localhost:8080/",
          "height": 607
        },
        "id": "b97b081e",
        "outputId": "459a5bde-248f-4035-84cd-f8b6e3c17df6"
      },
      "outputs": [],
      "source": [
        "scores = pd.Series(selector.scores_, index=X.columns).sort_values(ascending=False)\n",
        "plt.figure(figsize=(10, 6))\n",
        "sns.barplot(x=scores.values, y=scores.index, palette=\"viridis\", hue=scores.values)\n",
        "for i, v in enumerate(scores.values):\n",
        "    plt.text(v + 0.01, i, f\"{v:.3f}\", color='red', va='center', fontsize=10)\n",
        "plt.title(\"Feature Importance Scores (mutual_info_classif)\")\n",
        "plt.xlabel(\"Score\")\n",
        "plt.ylabel(\"Feature\")\n",
        "plt.tight_layout()\n",
        "plt.show()"
      ]
    },
    {
      "cell_type": "code",
      "execution_count": null,
      "id": "9e7f48f1",
      "metadata": {
        "id": "9e7f48f1"
      },
      "outputs": [],
      "source": [
        "# Scale the data using standard scaler\n",
        "scaler = StandardScaler()\n",
        "X_train_scaled = scaler.fit_transform(X_train[selected_features])\n",
        "X_test_scaled = scaler.transform(X_test[selected_features])\n",
        "X_train_scaled = pd.DataFrame(X_train_scaled, columns=selected_features)\n",
        "X_test_scaled = pd.DataFrame(X_test_scaled, columns=selected_features)\n",
        "\n"
      ]
    },
    {
      "cell_type": "code",
      "execution_count": null,
      "id": "b906b5c6",
      "metadata": {
        "colab": {
          "background_save": true,
          "base_uri": "https://localhost:8080/"
        },
        "id": "b906b5c6",
        "outputId": "bd08bc91-5c32-4099-d1a8-2cccc5f7c666"
      },
      "outputs": [],
      "source": [
        "from sklearn.ensemble import RandomForestClassifier\n",
        "from sklearn.metrics import classification_report, confusion_matrix, accuracy_score\n",
        "from sklearn.model_selection import GridSearchCV\n",
        "\n",
        "\n",
        "rf = RandomForestClassifier(random_state=42)\n",
        "param_grid = {\n",
        "    'n_estimators': [100, 200, 300],\n",
        "    'max_depth': [None, 10, 20, 30],\n",
        "    'min_samples_split': [2, 5, 10],\n",
        "    'min_samples_leaf': [1, 2, 4],\n",
        "    'max_features': ['sqrt', 'log2', None],\n",
        "    'bootstrap': [True, False],\n",
        "    'class_weight': [None, 'balanced']\n",
        "}\n",
        "\n",
        "grid_search = GridSearchCV(estimator=rf, param_grid=param_grid, cv=3, n_jobs=-1, verbose=2)\n",
        "grid_search.fit(X_train_scaled, y_train)\n",
        "best_rf = grid_search.best_estimator_\n",
        "print(\"Best Parameters:\", grid_search.best_params_)\n",
        "print(\"Best Score:\", grid_search.best_score_)\n",
        "y_pred = best_rf.predict(X_test_scaled)\n",
        "\n",
        "print(\"(Random Forest) Accuracy:\", accuracy_score(y_test, y_pred))\n",
        "print(\"(Random Forest) Classification Report:\\n\", classification_report(y_test, y_pred))\n",
        "cm = confusion_matrix(y_test, y_pred)\n",
        "plt.figure(figsize=(8, 6))\n",
        "sns.heatmap(cm, annot=True, fmt='d', cmap='Blues', cbar=False, xticklabels=encoder.classes_, yticklabels=encoder.classes_)\n",
        "plt.title(\"(Random Forest) Confusion Matrix\")\n",
        "plt.xlabel(\"Predicted\")\n",
        "plt.ylabel(\"True\")\n",
        "plt.show()"
      ]
    },
    {
      "cell_type": "code",
      "execution_count": null,
      "id": "9ObpdIAcBimy",
      "metadata": {
        "colab": {
          "background_save": true,
          "base_uri": "https://localhost:8080/",
          "height": 1000
        },
        "id": "9ObpdIAcBimy",
        "outputId": "a03ea78c-341f-4cde-c0b3-540b7065d664"
      },
      "outputs": [],
      "source": [
        "from sklearn.linear_model import LogisticRegression\n",
        "\n",
        "lr = LogisticRegression(max_iter=1000, multi_class='multinomial', solver='lbfgs')\n",
        "param_grid = {\n",
        "    'C': [0.01, 0.1, 1, 10, 100],\n",
        "    'solver': ['lbfgs', 'newton-cg', 'saga'],\n",
        "    'multi_class': ['multinomial']\n",
        "}\n",
        "grid_search = GridSearchCV(estimator=lr, param_grid=param_grid, cv=3, n_jobs=-1, verbose=2)\n",
        "grid_search.fit(X_train_scaled, y_train)\n",
        "best_lr = grid_search.best_estimator_\n",
        "print(\"Best Parameters:\", grid_search.best_params_)\n",
        "print(\"Best Score:\", grid_search.best_score_)\n",
        "y_pred_lr = best_lr.predict(X_test_scaled)\n",
        "\n",
        "\n",
        "\n",
        "print(\"(Logistic Regression) Accuracy:\", accuracy_score(y_test, y_pred_lr))\n",
        "print(\"(Logistic Regression) Classification Report:\\n\", classification_report(y_test, y_pred_lr))\n",
        "cm = confusion_matrix(y_test, y_pred_lr)\n",
        "plt.figure(figsize=(8, 6))\n",
        "sns.heatmap(cm, annot=True, fmt='d', cmap='Blues', cbar=False, xticklabels=encoder.classes_, yticklabels=encoder.classes_)\n",
        "plt.title(\" (Logistic Regression) Confusion Matrix\")\n",
        "plt.xlabel(\"Predicted\")\n",
        "plt.ylabel(\"True\")\n",
        "plt.show()"
      ]
    },
    {
      "cell_type": "code",
      "execution_count": null,
      "id": "2Gx-K3AQBlT8",
      "metadata": {
        "colab": {
          "background_save": true,
          "base_uri": "https://localhost:8080/",
          "height": 1000
        },
        "id": "2Gx-K3AQBlT8",
        "outputId": "34067755-977c-4494-8b09-f9062a23d2ac"
      },
      "outputs": [],
      "source": [
        "from xgboost import XGBClassifier\n",
        "\n",
        "xgb = XGBClassifier(use_label_encoder=False, eval_metric='mlogloss', random_state=42)\n",
        "param_grid = {\n",
        "    'n_estimators': [50, 100, 200],\n",
        "    'max_depth': [3, 5, 7],\n",
        "    'learning_rate': [0.01, 0.1, 0.2],\n",
        "    'subsample': [0.8, 1.0]\n",
        "}\n",
        "grid_search = GridSearchCV(estimator=xgb, param_grid=param_grid, cv=3, n_jobs=-1, verbose=2)\n",
        "grid_search.fit(X_train_scaled, y_train)\n",
        "best_xgb = grid_search.best_estimator_\n",
        "print(\"Best Parameters:\", grid_search.best_params_)\n",
        "print(\"Best Score:\", grid_search.best_score_)\n",
        "\n",
        "y_pred_xgb = best_xgb.predict(X_test_scaled)\n",
        "\n",
        "# Evaluasi model\n",
        "print(\"(XG Boost) Accuracy:\", accuracy_score(y_test, y_pred_xgb))\n",
        "print(\"(XG Boost) Classification Report:\\n\", classification_report(y_test, y_pred_xgb))\n",
        "cm = confusion_matrix(y_test, y_pred_xgb)\n",
        "plt.figure(figsize=(8, 6))\n",
        "sns.heatmap(cm, annot=True, fmt='d', cmap='Blues', cbar=False, xticklabels=encoder.classes_, yticklabels=encoder.classes_)\n",
        "plt.title(\"(XG Boost) Confusion Matrix\")\n",
        "plt.xlabel(\"Predicted\")\n",
        "plt.ylabel(\"True\")\n",
        "plt.show()"
      ]
    },
    {
      "cell_type": "code",
      "execution_count": null,
      "id": "GT16EG0ALdQi",
      "metadata": {
        "colab": {
          "background_save": true,
          "base_uri": "https://localhost:8080/",
          "height": 1000
        },
        "id": "GT16EG0ALdQi",
        "outputId": "e2f02e5c-be24-4825-f030-3f2007bdcbf3"
      },
      "outputs": [],
      "source": [
        "import lightgbm as lgb\n",
        "\n",
        "lgb = lgb.LGBMClassifier(random_state=42, verbose=-1) #verbose=-1 untuk mematikan log output data trainning\n",
        "param_grid = {\n",
        "    'n_estimators': [50, 100, 200],\n",
        "    'max_depth': [3, 5, 7],\n",
        "    'learning_rate': [0.01, 0.1, 0.2],\n",
        "    'subsample': [0.8, 1.0]\n",
        "}\n",
        "grid_search = GridSearchCV(estimator=lgb, param_grid=param_grid, cv=3, n_jobs=-1, verbose=2)\n",
        "grid_search.fit(X_train_scaled, y_train)\n",
        "best_lgb = grid_search.best_estimator_\n",
        "print(\"Best Parameters:\", grid_search.best_params_)\n",
        "print(\"Best Score:\", grid_search.best_score_)\n",
        "y_pred_lgb = best_lgb.predict(X_test_scaled)\n",
        "\n",
        "# Evaluasi model\n",
        "print(\"(Light GBM) Accuracy:\", accuracy_score(y_test, y_pred_lgb))\n",
        "print(\"(Light GBM)) Classification Report:\\n\", classification_report(y_test, y_pred_lgb))\n",
        "cm = confusion_matrix(y_test, y_pred_lgb)\n",
        "plt.figure(figsize=(8, 6))\n",
        "sns.heatmap(cm, annot=True, fmt='d', cmap='Blues', cbar=False, xticklabels=encoder.classes_, yticklabels=encoder.classes_)\n",
        "plt.title(\"(Light GBM) Confusion Matrix\")\n",
        "plt.xlabel(\"Predicted\")\n",
        "plt.ylabel(\"True\")\n",
        "plt.show()"
      ]
    },
    {
      "cell_type": "code",
      "execution_count": null,
      "id": "LbiaSVYMbBW3",
      "metadata": {
        "colab": {
          "base_uri": "https://localhost:8080/",
          "height": 391
        },
        "id": "LbiaSVYMbBW3",
        "outputId": "b74d1c5f-c200-46e2-d9bb-91012e5b70b1"
      },
      "outputs": [],
      "source": [
        "from catboost import CatBoostClassifier\n",
        "\n",
        "cb = CatBoostClassifier(random_state=42, verbose=0)\n",
        "param_grid = {\n",
        "    'iterations': [100, 200],\n",
        "    'learning_rate': [0.01, 0.1, 0.2],\n",
        "    'depth': [4, 6, 8],\n",
        "    'l2_leaf_reg': [1, 3, 5, 7],\n",
        "    'border_count': [32, 64, 128]\n",
        "}\n",
        "\n",
        "grid_search = GridSearchCV(estimator=cb, param_grid=param_grid, cv=3, n_jobs=-1, verbose=2)\n",
        "grid_search.fit(X_train_scaled, y_train)\n",
        "best_cb = grid_search.best_estimator_\n",
        "print(\"Best Parameters:\", grid_search.best_params_)\n",
        "print(\"Best Score:\", grid_search.best_score_)\n",
        "y_pred_cb = best_cb.predict(X_test_scaled)\n",
        "\n",
        "# Evaluasi model\n",
        "print(\"(Cat Boost) Accuracy:\", accuracy_score(y_test, y_pred_cb))\n",
        "print(\"(Cat Boost) Classification Report:\\n\", classification_report(y_test, y_pred_cb))\n",
        "cm = confusion_matrix(y_test, y_pred_cb)\n",
        "plt.figure(figsize=(8, 6))\n",
        "sns.heatmap(cm, annot=True, fmt='d', cmap='Blues', cbar=False, xticklabels=encoder.classes_, yticklabels=encoder.classes_)\n",
        "plt.title(\"(Cat Boost) Confusion Matrix\")\n",
        "plt.xlabel(\"Predicted\")\n",
        "plt.ylabel(\"True\")\n",
        "plt.show()"
      ]
    },
    {
      "cell_type": "code",
      "execution_count": null,
      "id": "PVdIuC2LbEb2",
      "metadata": {
        "id": "PVdIuC2LbEb2"
      },
      "outputs": [],
      "source": []
    }
  ],
  "metadata": {
    "colab": {
      "provenance": []
    },
    "kernelspec": {
      "display_name": "Python 3",
      "language": "python",
      "name": "python3"
    },
    "language_info": {
      "codemirror_mode": {
        "name": "ipython",
        "version": 3
      },
      "file_extension": ".py",
      "mimetype": "text/x-python",
      "name": "python",
      "nbconvert_exporter": "python",
      "pygments_lexer": "ipython3",
      "version": "3.11.4"
    }
  },
  "nbformat": 4,
  "nbformat_minor": 5
}
